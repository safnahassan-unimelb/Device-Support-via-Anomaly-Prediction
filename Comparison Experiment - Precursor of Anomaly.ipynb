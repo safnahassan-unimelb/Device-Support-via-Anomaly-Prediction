{
 "cells": [
  {
   "cell_type": "code",
   "execution_count": 1,
   "id": "b9e31c0a",
   "metadata": {},
   "outputs": [
    {
     "name": "stdout",
     "output_type": "stream",
     "text": [
      "Requirement already satisfied: pyod in c:\\python310\\lib\\site-packages (1.1.3)Note: you may need to restart the kernel to use updated packages.\n",
      "\n",
      "Requirement already satisfied: scikit-learn>=0.22.0 in c:\\python310\\lib\\site-packages (from pyod) (1.1.1)\n",
      "Requirement already satisfied: numpy>=1.19 in c:\\python310\\lib\\site-packages (from pyod) (1.23.1)\n",
      "Requirement already satisfied: joblib in c:\\python310\\lib\\site-packages (from pyod) (1.1.0)\n",
      "Requirement already satisfied: matplotlib in c:\\python310\\lib\\site-packages (from pyod) (3.5.2)\n",
      "Requirement already satisfied: numba>=0.51 in c:\\python310\\lib\\site-packages (from pyod) (0.58.1)\n",
      "Requirement already satisfied: scipy>=1.5.1 in c:\\python310\\lib\\site-packages (from pyod) (1.9.0)\n",
      "Requirement already satisfied: six in c:\\python310\\lib\\site-packages (from pyod) (1.16.0)\n",
      "Requirement already satisfied: llvmlite<0.42,>=0.41.0dev0 in c:\\python310\\lib\\site-packages (from numba>=0.51->pyod) (0.41.1)\n",
      "Requirement already satisfied: threadpoolctl>=2.0.0 in c:\\python310\\lib\\site-packages (from scikit-learn>=0.22.0->pyod) (3.1.0)\n",
      "Requirement already satisfied: packaging>=20.0 in c:\\python310\\lib\\site-packages (from matplotlib->pyod) (21.3)\n",
      "Requirement already satisfied: pyparsing>=2.2.1 in c:\\python310\\lib\\site-packages (from matplotlib->pyod) (3.0.9)\n",
      "Requirement already satisfied: kiwisolver>=1.0.1 in c:\\python310\\lib\\site-packages (from matplotlib->pyod) (1.4.4)\n",
      "Requirement already satisfied: fonttools>=4.22.0 in c:\\python310\\lib\\site-packages (from matplotlib->pyod) (4.34.4)\n",
      "Requirement already satisfied: cycler>=0.10 in c:\\python310\\lib\\site-packages (from matplotlib->pyod) (0.11.0)\n",
      "Requirement already satisfied: python-dateutil>=2.7 in c:\\python310\\lib\\site-packages (from matplotlib->pyod) (2.8.2)\n",
      "Requirement already satisfied: pillow>=6.2.0 in c:\\python310\\lib\\site-packages (from matplotlib->pyod) (9.2.0)\n",
      "\n",
      "[notice] A new release of pip available: 22.2 -> 24.0\n",
      "[notice] To update, run: python.exe -m pip install --upgrade pip\n"
     ]
    }
   ],
   "source": [
    "pip install --upgrade pyod"
   ]
  },
  {
   "cell_type": "code",
   "execution_count": 2,
   "id": "a5322fe1",
   "metadata": {},
   "outputs": [
    {
     "name": "stdout",
     "output_type": "stream",
     "text": [
      "Requirement already satisfied: combo in c:\\python310\\lib\\site-packages (0.1.3)\n",
      "Requirement already satisfied: pyod in c:\\python310\\lib\\site-packages (from combo) (1.1.3)\n",
      "Requirement already satisfied: numpy>=1.13 in c:\\python310\\lib\\site-packages (from combo) (1.23.1)\n",
      "Requirement already satisfied: matplotlib in c:\\python310\\lib\\site-packages (from combo) (3.5.2)\n",
      "Requirement already satisfied: scipy in c:\\python310\\lib\\site-packages (from combo) (1.9.0)\n",
      "Requirement already satisfied: scikit-learn>=0.20 in c:\\python310\\lib\\site-packages (from combo) (1.1.1)\n",
      "Requirement already satisfied: joblib in c:\\python310\\lib\\site-packages (from combo) (1.1.0)\n",
      "Requirement already satisfied: numba>=0.35 in c:\\python310\\lib\\site-packages (from combo) (0.58.1)\n",
      "Requirement already satisfied: llvmlite<0.42,>=0.41.0dev0 in c:\\python310\\lib\\site-packages (from numba>=0.35->combo) (0.41.1)\n",
      "Requirement already satisfied: threadpoolctl>=2.0.0 in c:\\python310\\lib\\site-packages (from scikit-learn>=0.20->combo) (3.1.0)\n",
      "Requirement already satisfied: packaging>=20.0 in c:\\python310\\lib\\site-packages (from matplotlib->combo) (21.3)\n",
      "Requirement already satisfied: python-dateutil>=2.7 in c:\\python310\\lib\\site-packages (from matplotlib->combo) (2.8.2)\n",
      "Requirement already satisfied: fonttools>=4.22.0 in c:\\python310\\lib\\site-packages (from matplotlib->combo) (4.34.4)\n",
      "Requirement already satisfied: pyparsing>=2.2.1 in c:\\python310\\lib\\site-packages (from matplotlib->combo) (3.0.9)\n",
      "Requirement already satisfied: kiwisolver>=1.0.1 in c:\\python310\\lib\\site-packages (from matplotlib->combo) (1.4.4)\n",
      "Requirement already satisfied: cycler>=0.10 in c:\\python310\\lib\\site-packages (from matplotlib->combo) (0.11.0)\n",
      "Requirement already satisfied: pillow>=6.2.0 in c:\\python310\\lib\\site-packages (from matplotlib->combo) (9.2.0)\n",
      "Requirement already satisfied: six in c:\\python310\\lib\\site-packages (from pyod->combo) (1.16.0)\n",
      "\n",
      "[notice] A new release of pip available: 22.2 -> 24.0\n",
      "[notice] To update, run: python.exe -m pip install --upgrade pip\n",
      "Note: you may need to restart the kernel to use updated packages.\n"
     ]
    }
   ],
   "source": [
    "pip install combo"
   ]
  },
  {
   "cell_type": "code",
   "execution_count": 3,
   "id": "48bf6bff",
   "metadata": {},
   "outputs": [],
   "source": [
    "# pip uninstall torch"
   ]
  },
  {
   "cell_type": "code",
   "execution_count": 4,
   "id": "0c662f1d",
   "metadata": {},
   "outputs": [
    {
     "name": "stdout",
     "output_type": "stream",
     "text": [
      "Looking in indexes: https://download.pytorch.org/whl/cu118\n",
      "Requirement already satisfied: torch in c:\\python310\\lib\\site-packages (2.2.2+cu118)\n",
      "Requirement already satisfied: torchvision in c:\\python310\\lib\\site-packages (0.17.2+cu118)\n",
      "Requirement already satisfied: torchaudio in c:\\python310\\lib\\site-packages (2.2.2+cu118)\n",
      "Requirement already satisfied: networkx in c:\\python310\\lib\\site-packages (from torch) (3.3)\n",
      "Requirement already satisfied: typing-extensions>=4.8.0 in c:\\python310\\lib\\site-packages (from torch) (4.11.0)\n",
      "Requirement already satisfied: fsspec in c:\\python310\\lib\\site-packages (from torch) (2024.3.1)\n",
      "Requirement already satisfied: jinja2 in c:\\python310\\lib\\site-packages (from torch) (3.1.2)\n",
      "Requirement already satisfied: sympy in c:\\python310\\lib\\site-packages (from torch) (1.12)\n",
      "Requirement already satisfied: filelock in c:\\python310\\lib\\site-packages (from torch) (3.12.0)\n",
      "Requirement already satisfied: numpy in c:\\python310\\lib\\site-packages (from torchvision) (1.23.1)\n",
      "Requirement already satisfied: pillow!=8.3.*,>=5.3.0 in c:\\python310\\lib\\site-packages (from torchvision) (9.2.0)\n",
      "Requirement already satisfied: MarkupSafe>=2.0 in c:\\python310\\lib\\site-packages (from jinja2->torch) (2.1.1)\n",
      "Requirement already satisfied: mpmath>=0.19 in c:\\python310\\lib\\site-packages (from sympy->torch) (1.3.0)\n",
      "\n",
      "[notice] A new release of pip available: 22.2 -> 24.0\n",
      "[notice] To update, run: python.exe -m pip install --upgrade pip\n",
      "Note: you may need to restart the kernel to use updated packages.\n"
     ]
    }
   ],
   "source": [
    "pip install torch torchvision torchaudio --index-url https://download.pytorch.org/whl/cu118"
   ]
  },
  {
   "cell_type": "code",
   "execution_count": 5,
   "id": "3741ea00",
   "metadata": {},
   "outputs": [],
   "source": [
    "import os\n",
    "import os.path as osp\n",
    "import time\n",
    "import random\n",
    "import numpy as np\n",
    "import torch\n",
    "from parse2 import parse_arguments\n",
    "import sklearn.model_selection\n",
    "import torchdiffeq\n",
    "from sklearn import metrics \n",
    "import pathlib"
   ]
  },
  {
   "cell_type": "code",
   "execution_count": 6,
   "id": "85b16862",
   "metadata": {},
   "outputs": [
    {
     "data": {
      "text/plain": [
       "True"
      ]
     },
     "execution_count": 6,
     "metadata": {},
     "output_type": "execute_result"
    }
   ],
   "source": [
    "torch.cuda.is_available()"
   ]
  },
  {
   "cell_type": "code",
   "execution_count": 7,
   "id": "a6e4b0e4",
   "metadata": {},
   "outputs": [
    {
     "name": "stdout",
     "output_type": "stream",
     "text": [
      "Requirement already satisfied: torch_geometric in c:\\python310\\lib\\site-packages (2.5.2)\n",
      "Requirement already satisfied: aiohttp in c:\\python310\\lib\\site-packages (from torch_geometric) (3.9.4)\n",
      "Requirement already satisfied: requests in c:\\python310\\lib\\site-packages (from torch_geometric) (2.28.1)\n",
      "Requirement already satisfied: numpy in c:\\python310\\lib\\site-packages (from torch_geometric) (1.23.1)\n",
      "Requirement already satisfied: jinja2 in c:\\python310\\lib\\site-packages (from torch_geometric) (3.1.2)\n",
      "Requirement already satisfied: scipy in c:\\python310\\lib\\site-packages (from torch_geometric) (1.9.0)\n",
      "Requirement already satisfied: fsspec in c:\\python310\\lib\\site-packages (from torch_geometric) (2024.3.1)\n",
      "Requirement already satisfied: tqdm in c:\\python310\\lib\\site-packages (from torch_geometric) (4.65.0)\n",
      "Requirement already satisfied: scikit-learn in c:\\python310\\lib\\site-packages (from torch_geometric) (1.1.1)\n",
      "Requirement already satisfied: pyparsing in c:\\python310\\lib\\site-packages (from torch_geometric) (3.0.9)\n",
      "Requirement already satisfied: psutil>=5.8.0 in c:\\python310\\lib\\site-packages (from torch_geometric) (5.9.1)\n",
      "Requirement already satisfied: frozenlist>=1.1.1 in c:\\python310\\lib\\site-packages (from aiohttp->torch_geometric) (1.4.1)\n",
      "Requirement already satisfied: yarl<2.0,>=1.0 in c:\\python310\\lib\\site-packages (from aiohttp->torch_geometric) (1.9.4)\n",
      "Requirement already satisfied: multidict<7.0,>=4.5 in c:\\python310\\lib\\site-packages (from aiohttp->torch_geometric) (6.0.5)\n",
      "Requirement already satisfied: aiosignal>=1.1.2 in c:\\python310\\lib\\site-packages (from aiohttp->torch_geometric) (1.3.1)\n",
      "Requirement already satisfied: attrs>=17.3.0 in c:\\python310\\lib\\site-packages (from aiohttp->torch_geometric) (21.4.0)\n",
      "Requirement already satisfied: async-timeout<5.0,>=4.0 in c:\\python310\\lib\\site-packages (from aiohttp->torch_geometric) (4.0.3)\n",
      "Requirement already satisfied: MarkupSafe>=2.0 in c:\\python310\\lib\\site-packages (from jinja2->torch_geometric) (2.1.1)\n",
      "Requirement already satisfied: charset-normalizer<3,>=2 in c:\\python310\\lib\\site-packages (from requests->torch_geometric) (2.1.1)\n",
      "Requirement already satisfied: certifi>=2017.4.17 in c:\\python310\\lib\\site-packages (from requests->torch_geometric) (2022.9.24)\n",
      "Requirement already satisfied: idna<4,>=2.5 in c:\\python310\\lib\\site-packages (from requests->torch_geometric) (3.4)\n",
      "Requirement already satisfied: urllib3<1.27,>=1.21.1 in c:\\python310\\lib\\site-packages (from requests->torch_geometric) (1.26.12)\n",
      "Requirement already satisfied: threadpoolctl>=2.0.0 in c:\\python310\\lib\\site-packages (from scikit-learn->torch_geometric) (3.1.0)\n",
      "Requirement already satisfied: joblib>=1.0.0 in c:\\python310\\lib\\site-packages (from scikit-learn->torch_geometric) (1.1.0)\n",
      "Requirement already satisfied: colorama in c:\\python310\\lib\\site-packages (from tqdm->torch_geometric) (0.4.5)\n",
      "\n",
      "[notice] A new release of pip available: 22.2 -> 24.0\n",
      "[notice] To update, run: python.exe -m pip install --upgrade pip\n",
      "Note: you may need to restart the kernel to use updated packages.\n"
     ]
    }
   ],
   "source": [
    "pip install torch_geometric"
   ]
  },
  {
   "cell_type": "code",
   "execution_count": 8,
   "id": "3eb0aa07",
   "metadata": {},
   "outputs": [
    {
     "name": "stdout",
     "output_type": "stream",
     "text": [
      "Requirement already satisfied: torchdiffeq in c:\\python310\\lib\\site-packages (0.2.3)\n",
      "Requirement already satisfied: scipy>=1.4.0 in c:\\python310\\lib\\site-packages (from torchdiffeq) (1.9.0)\n",
      "Requirement already satisfied: torch>=1.3.0 in c:\\python310\\lib\\site-packages (from torchdiffeq) (2.2.2+cu118)\n",
      "Requirement already satisfied: numpy<1.25.0,>=1.18.5 in c:\\python310\\lib\\site-packages (from scipy>=1.4.0->torchdiffeq) (1.23.1)\n",
      "Requirement already satisfied: typing-extensions>=4.8.0 in c:\\python310\\lib\\site-packages (from torch>=1.3.0->torchdiffeq) (4.11.0)\n",
      "Requirement already satisfied: fsspec in c:\\python310\\lib\\site-packages (from torch>=1.3.0->torchdiffeq) (2024.3.1)\n",
      "Requirement already satisfied: sympy in c:\\python310\\lib\\site-packages (from torch>=1.3.0->torchdiffeq) (1.12)\n",
      "Requirement already satisfied: filelock in c:\\python310\\lib\\site-packages (from torch>=1.3.0->torchdiffeq) (3.12.0)\n",
      "Requirement already satisfied: jinja2 in c:\\python310\\lib\\site-packages (from torch>=1.3.0->torchdiffeq) (3.1.2)\n",
      "Requirement already satisfied: networkx in c:\\python310\\lib\\site-packages (from torch>=1.3.0->torchdiffeq) (3.3)\n",
      "Requirement already satisfied: MarkupSafe>=2.0 in c:\\python310\\lib\\site-packages (from jinja2->torch>=1.3.0->torchdiffeq) (2.1.1)\n",
      "Requirement already satisfied: mpmath>=0.19 in c:\\python310\\lib\\site-packages (from sympy->torch>=1.3.0->torchdiffeq) (1.3.0)\n",
      "\n",
      "[notice] A new release of pip available: 22.2 -> 24.0\n",
      "[notice] To update, run: python.exe -m pip install --upgrade pip\n",
      "Note: you may need to restart the kernel to use updated packages.\n"
     ]
    }
   ],
   "source": [
    "pip install torchdiffeq"
   ]
  },
  {
   "cell_type": "code",
   "execution_count": 9,
   "id": "73c1df21",
   "metadata": {},
   "outputs": [
    {
     "name": "stdout",
     "output_type": "stream",
     "text": [
      "Requirement already satisfied: torchsde in c:\\python310\\lib\\site-packages (0.2.6)Note: you may need to restart the kernel to use updated packages.\n",
      "\n",
      "Requirement already satisfied: trampoline>=0.1.2 in c:\\python310\\lib\\site-packages (from torchsde) (0.1.2)\n",
      "Requirement already satisfied: numpy>=1.19 in c:\\python310\\lib\\site-packages (from torchsde) (1.23.1)\n",
      "Requirement already satisfied: torch>=1.6.0 in c:\\python310\\lib\\site-packages (from torchsde) (2.2.2+cu118)\n",
      "Requirement already satisfied: scipy>=1.5 in c:\\python310\\lib\\site-packages (from torchsde) (1.9.0)\n",
      "Requirement already satisfied: filelock in c:\\python310\\lib\\site-packages (from torch>=1.6.0->torchsde) (3.12.0)\n",
      "Requirement already satisfied: typing-extensions>=4.8.0 in c:\\python310\\lib\\site-packages (from torch>=1.6.0->torchsde) (4.11.0)\n",
      "Requirement already satisfied: fsspec in c:\\python310\\lib\\site-packages (from torch>=1.6.0->torchsde) (2024.3.1)\n",
      "Requirement already satisfied: sympy in c:\\python310\\lib\\site-packages (from torch>=1.6.0->torchsde) (1.12)\n",
      "Requirement already satisfied: networkx in c:\\python310\\lib\\site-packages (from torch>=1.6.0->torchsde) (3.3)\n",
      "Requirement already satisfied: jinja2 in c:\\python310\\lib\\site-packages (from torch>=1.6.0->torchsde) (3.1.2)\n",
      "Requirement already satisfied: MarkupSafe>=2.0 in c:\\python310\\lib\\site-packages (from jinja2->torch>=1.6.0->torchsde) (2.1.1)\n",
      "Requirement already satisfied: mpmath>=0.19 in c:\\python310\\lib\\site-packages (from sympy->torch>=1.6.0->torchsde) (1.3.0)\n",
      "\n",
      "[notice] A new release of pip available: 22.2 -> 24.0\n",
      "[notice] To update, run: python.exe -m pip install --upgrade pip\n"
     ]
    }
   ],
   "source": [
    "pip install torchsde"
   ]
  },
  {
   "cell_type": "code",
   "execution_count": 10,
   "id": "09f6a657",
   "metadata": {},
   "outputs": [],
   "source": [
    "import pandas as pd\n",
    "import numpy as np\n",
    "from pandas import json_normalize\n",
    "import json\n",
    "from datetime import datetime\n",
    "import pytz\n",
    "import matplotlib.pyplot as plt\n",
    "import ruptures as rpt\n",
    "from collections import Counter"
   ]
  },
  {
   "cell_type": "code",
   "execution_count": 11,
   "id": "bcfc386d",
   "metadata": {},
   "outputs": [],
   "source": [
    "# columns = ['sensors.battery.temp',\n",
    "#        'sensors.battery.percent', 'sensors.battery.solarmv',\n",
    "#        'sensors.battery.current', 'sensors.battery.voltage',\n",
    "#        'sensors.battery.solarma', 'sensors.battery.charging',\n",
    "#         'solar_power', 'battery_power','power_difference']"
   ]
  },
  {
   "cell_type": "code",
   "execution_count": 12,
   "id": "b6a7fc7d",
   "metadata": {},
   "outputs": [],
   "source": [
    "# # Reading back and setting the MultiIndex\n",
    "# labelled_data = pd.read_feather('../MTDataBatch1\\Labelled Data\\Labelled Batch 1 - Updated.feather')\n",
    "# labelled_data.set_index(['DeviceId', 'time'], inplace=True)\n",
    "# # labelled_data"
   ]
  },
  {
   "cell_type": "code",
   "execution_count": 13,
   "id": "744f19b2",
   "metadata": {},
   "outputs": [],
   "source": [
    "# labelled_data"
   ]
  },
  {
   "cell_type": "code",
   "execution_count": 14,
   "id": "9a4c2dbe",
   "metadata": {},
   "outputs": [],
   "source": [
    "# labelled_data = labelled_data.sort_index(level=['DeviceId', 'time'])"
   ]
  },
  {
   "cell_type": "code",
   "execution_count": 15,
   "id": "7e95ab3e",
   "metadata": {},
   "outputs": [],
   "source": [
    "# numberOfDevices = len(labelled_data.groupby(level=0))\n",
    "# numberOfDevices"
   ]
  },
  {
   "cell_type": "code",
   "execution_count": 16,
   "id": "b67f2741",
   "metadata": {},
   "outputs": [],
   "source": [
    "# column_list = list(labelled_data.columns)\n",
    "# for column in column_list:\n",
    "#     print(column)\n",
    "#     print(labelled_data[column].isnull().values.any())\n",
    "#     print(\"-------------------\")"
   ]
  },
  {
   "cell_type": "code",
   "execution_count": 17,
   "id": "39758a8b",
   "metadata": {},
   "outputs": [],
   "source": [
    "# len(labelled_data.columns)"
   ]
  },
  {
   "cell_type": "code",
   "execution_count": 18,
   "id": "ff12ac0b",
   "metadata": {},
   "outputs": [],
   "source": [
    "# train_size = int(len(labelled_data) * 0.80)\n",
    "# test_size = len(labelled_data) - train_size"
   ]
  },
  {
   "cell_type": "code",
   "execution_count": 19,
   "id": "2494b6d8",
   "metadata": {},
   "outputs": [],
   "source": [
    "# # Training data : take all rows, and only device feature columns (From \"sensors.battery.extpower\" to \"power_difference\")\n",
    "# train_data = labelled_data.iloc[0:train_size,6:29]\n",
    "# test_data = labelled_data.iloc[train_size:len(labelled_data),6:29]\n",
    "# # Drop columns that have string values, or even NaN values \n",
    "# # Manual Inspection proved them as non important for malfunction detectio.\n",
    "# train_data = train_data.drop('location.source', axis=1)\n",
    "# train_data = train_data.drop('location.numSats', axis=1)\n",
    "# train_data = train_data.drop('sensors.accelerometer.y', axis=1)\n",
    "# train_data = train_data.drop('sensors.accelerometer.x', axis=1)\n",
    "# train_data = train_data.drop('sensors.accelerometer.z', axis=1)\n",
    "# test_data = test_data.drop('location.source', axis=1)\n",
    "# test_data = test_data.drop('location.numSats', axis=1)\n",
    "# test_data = test_data.drop('sensors.accelerometer.y', axis=1)\n",
    "# test_data = test_data.drop('sensors.accelerometer.x', axis=1)\n",
    "# test_data = test_data.drop('sensors.accelerometer.z', axis=1)\n",
    "# # Labels is the array of values in \"isDeviceWorking\" -  convert to array of inetgers (0 or 1 values)\n",
    "# labels = labelled_data.iloc[:,29].values\n"
   ]
  },
  {
   "cell_type": "code",
   "execution_count": 20,
   "id": "92853dbc",
   "metadata": {},
   "outputs": [],
   "source": [
    "# len(train_data.columns)"
   ]
  },
  {
   "cell_type": "code",
   "execution_count": 21,
   "id": "e1ae6ce2",
   "metadata": {},
   "outputs": [],
   "source": [
    "# # Timestamps of devices that are working\n",
    "# train_data_label.loc[train_data_label['isDeviceWorking'] == 1]"
   ]
  },
  {
   "cell_type": "code",
   "execution_count": 22,
   "id": "4109f8a1",
   "metadata": {},
   "outputs": [],
   "source": [
    "# deviceWorkingLabels = labelled_data[['isDeviceWorking']].copy()\n",
    "# deviceWorkingLabels['isDeviceWorking'] = deviceWorkingLabels['isDeviceWorking'].astype(int)\n",
    "# deviceWorkingLabels"
   ]
  },
  {
   "cell_type": "code",
   "execution_count": 23,
   "id": "988f8edd",
   "metadata": {},
   "outputs": [],
   "source": [
    "# train_data_label = deviceWorkingLabels.iloc[0:train_size,:]\n",
    "# test_data_label = deviceWorkingLabels.iloc[train_size:len(deviceWorkingLabels),:]"
   ]
  },
  {
   "cell_type": "code",
   "execution_count": 24,
   "id": "3abb793d",
   "metadata": {},
   "outputs": [],
   "source": [
    "# train_data_label"
   ]
  },
  {
   "cell_type": "code",
   "execution_count": 25,
   "id": "9a7566d7",
   "metadata": {},
   "outputs": [],
   "source": [
    "# # Scale column values (without normalizing the indexes)\n",
    "# from sklearn.preprocessing import MinMaxScaler\n",
    "\n",
    "# scaler = MinMaxScaler(feature_range=(-1,1))\n",
    "\n",
    "# # Group by level 0, which is the first index corresponding to 'DeviceId'\n",
    "# # After applying the scaling function (which output a Numpy array), convert it to a dataframe\n",
    "\n",
    "# normalized_train_data = train_data.groupby(level=0).apply(lambda x : pd.DataFrame(scaler.fit_transform(x), columns=x.columns, index=x.index).round(5))\n",
    "    \n",
    "# normalized_test_data = test_data.groupby(level=0).apply(lambda x : pd.DataFrame(scaler.fit_transform(x), columns=x.columns, index=x.index).round(5))\n",
    "\n",
    "# normalized_test_data"
   ]
  },
  {
   "cell_type": "code",
   "execution_count": 26,
   "id": "fe5750cc",
   "metadata": {},
   "outputs": [],
   "source": [
    "# testdeviceIDs = set(normalized_test_data.index.get_level_values(0).tolist())\n",
    "# print(testdeviceIDs)"
   ]
  },
  {
   "cell_type": "code",
   "execution_count": 27,
   "id": "bab88154",
   "metadata": {},
   "outputs": [],
   "source": [
    "# normalized_train_data[normalized_train_data.index.get_level_values('DeviceId') == '015262001277846']"
   ]
  },
  {
   "cell_type": "code",
   "execution_count": 28,
   "id": "52191a90",
   "metadata": {},
   "outputs": [],
   "source": [
    "def _pad(channel, maxlen):\n",
    "    \n",
    "    channel = torch.tensor(channel) # Series\n",
    "    out = torch.full((maxlen,), channel[-1]) # tensor\n",
    "    out[:channel.size(0)] = channel \n",
    "    return out "
   ]
  },
  {
   "cell_type": "code",
   "execution_count": 29,
   "id": "19c35d7a",
   "metadata": {},
   "outputs": [],
   "source": [
    "def _process_data(look_window,forecast_window,stride_window,missing_rate,loc,learning_method):\n",
    "    PATH = os.path.dirname(os.path.abspath(__file__))\n",
    "    from sklearn import preprocessing\n",
    "    torch.__version__\n",
    "    \n",
    "    data_path = PATH + '/data'\n",
    "    \n",
    "    X_times = normalized_train_data\n",
    "    y_train_label = train_data_label\n",
    "    X_times_test = normalized_test_data\n",
    "    y_label = test_data_label\n",
    "    input_size = X_times.shape[1]\n",
    "    X_times = time_dataset.normalize(X_times)\n",
    "    X_times_test = time_dataset.normalize(X_times_test)\n",
    "    y_train_label = y_train_label[:X_times.shape[0]]\n",
    "    total_length = len(X_times)\n",
    "    \n",
    "    timelen = X_times.shape[0]\n",
    "    timelen_test = X_times_test.shape[0]\n",
    "    \n",
    "    full_seq_data_train = torch.Tensor()\n",
    "    forecast_seq_train = torch.Tensor()\n",
    "    full_y_seq_data_train = torch.Tensor()\n",
    "    full_forecast_data_train = torch.Tensor()\n",
    "    full_seq_data_test = torch.Tensor()\n",
    "    full_y_seq_data = torch.Tensor()\n",
    "    full_forecast_data_test = torch.Tensor()\n",
    "    forecast_seq_test = torch.Tensor()\n",
    "    \n",
    "    # TRAIN \n",
    "    for _len in range(int((timelen-look_window+stride_window-forecast_window)/stride_window)):\n",
    "        full_seq_temp = torch.Tensor([X_times[(_len*stride_window):(_len*stride_window)+look_window]])\n",
    "        forecast_seq_temp = torch.Tensor([X_times[(_len*stride_window)+look_window:(_len*stride_window)+look_window+forecast_window]])\n",
    "\n",
    "        full_y_seq_temp = torch.Tensor([y_train_label[(_len*stride_window):(_len*stride_window)+look_window]])\n",
    "        forecast_y_seq_temp = torch.Tensor([y_train_label[(_len*stride_window)+look_window:(_len*stride_window)+look_window+forecast_window]])\n",
    "\n",
    "        full_seq_data_train=torch.cat([full_seq_data_train,full_seq_temp])\n",
    "        forecast_seq_train = torch.cat([forecast_seq_train,forecast_seq_temp])\n",
    "        full_y_seq_data_train = torch.cat([full_y_seq_data_train,full_y_seq_temp])\n",
    "        full_forecast_data_train = torch.cat([full_forecast_data_train,forecast_y_seq_temp])\n",
    "        \n",
    "    if missing_rate ==0:\n",
    "\n",
    "        DATA_PATH_SAVE =PATH + '/processed_data/look_'+str(look_window)+'_stride_'+str(stride_window)+'_forecast_'+str(forecast_window)\n",
    "    else:\n",
    "        DATA_PATH_SAVE =PATH + '/processed_data/look_'+str(look_window)+'_stride_'+str(stride_window)+'_forecast_'+str(forecast_window)+'_Missing_'+str(missing_rate)\n",
    "\n",
    "    # TEST\n",
    "    for _len in range(int((timelen_test-look_window+stride_window-forecast_window)/stride_window)):\n",
    "        # import pdb ; pdb.set_trace()\n",
    "        full_seq_temp = torch.Tensor([X_times_test[(_len*stride_window):(_len*stride_window)+look_window]])\n",
    "        forecast_seq_temp = torch.Tensor([X_times_test[(_len*stride_window)+look_window:(_len*stride_window)+look_window+forecast_window]])\n",
    "        \n",
    "        full_y_seq_temp = torch.Tensor([y_label[(_len*stride_window):(_len*stride_window)+look_window]])\n",
    "        forecast_y_seq_temp = torch.Tensor([y_label[(_len*stride_window)+look_window:(_len*stride_window)+look_window+forecast_window]])\n",
    "        \n",
    "        full_seq_data_test=torch.cat([full_seq_data_test,full_seq_temp])\n",
    "        forecast_seq_test = torch.cat([forecast_seq_test,forecast_seq_temp])\n",
    "        full_y_seq_data = torch.cat([full_y_seq_data,full_y_seq_temp])\n",
    "        full_forecast_data_test = torch.cat([full_forecast_data_test,forecast_y_seq_temp])\n",
    "    # import pdb ; pdb.set_trace()\n",
    "    if missing_rate != 0:\n",
    "        generator = torch.Generator().manual_seed(56789)\n",
    "        # import pdb ; pdb.set_trace()\n",
    "        for Xi in full_seq_data_train:\n",
    "            removed_points = torch.randperm(full_seq_data_train.size(1), generator=generator)[:int(full_seq_data_train.size(1) * missing_rate)].sort().values\n",
    "            Xi[removed_points] = float('nan')\n",
    "        for Xi in full_seq_data_test:\n",
    "            removed_points = torch.randperm(full_seq_data_test.size(1), generator=generator)[:int(full_seq_data_test.size(1) * missing_rate)].sort().values\n",
    "            Xi[removed_points] = float('nan')\n",
    "    \n",
    "    eval_length = full_seq_data_test.shape[0]\n",
    "\n",
    "    train_seq_data = full_seq_data_train\n",
    "    train_y_data = full_y_seq_data_train\n",
    "    train_forecast_data = full_forecast_data_train\n",
    "    train_forecast_seq = forecast_seq_train\n",
    "    \n",
    "    val_seq_data = full_seq_data_test[:int(eval_length*0.5)]\n",
    "    val_y_data = full_y_seq_data[:int(eval_length*0.5)]\n",
    "    val_forecast_data = full_forecast_data_test[:int(eval_length*0.5)]\n",
    "    val_forecast_seq = forecast_seq_test[:int(eval_length*0.5)]\n",
    "    \n",
    "    test_seq_data = full_seq_data_test[int(eval_length*0.5):]\n",
    "    test_y_data = full_y_seq_data[int(eval_length*0.5):]\n",
    "    test_forecast_data = full_forecast_data_test[int(eval_length*0.5):]\n",
    "    test_forecast_seq = forecast_seq_test[int(eval_length*0.5):]\n",
    "    \n",
    "    torch.save(train_seq_data,DATA_PATH_SAVE+'/train_seq_data.pt')\n",
    "    torch.save(train_y_data,DATA_PATH_SAVE+'/train_y_data.pt')\n",
    "    torch.save(train_forecast_data,DATA_PATH_SAVE+'/train_forecast_y.pt')\n",
    "    torch.save(train_forecast_seq,DATA_PATH_SAVE+'/train_forecast_seq.pt')\n",
    "    \n",
    "\n",
    "    torch.save(val_seq_data,DATA_PATH_SAVE+'/val_seq_data.pt')\n",
    "    torch.save(val_y_data,DATA_PATH_SAVE+'/val_y_data.pt')\n",
    "    torch.save(val_forecast_data,DATA_PATH_SAVE+'/val_forecast_y.pt')\n",
    "    torch.save(val_forecast_seq,DATA_PATH_SAVE+'/val_forecast_seq.pt')\n",
    "\n",
    "    torch.save(test_seq_data,DATA_PATH_SAVE+'/test_seq_data.pt')\n",
    "    torch.save(test_y_data,DATA_PATH_SAVE+'/test_y_data.pt')\n",
    "    torch.save(test_forecast_data,DATA_PATH_SAVE+'/test_forecast_y.pt')\n",
    "    torch.save(test_forecast_seq,DATA_PATH_SAVE+'/test_forecast_seq.pt')\n",
    "\n",
    "    times = torch.Tensor(np.arange(look_window))\n",
    "    torch.save(times,DATA_PATH_SAVE+'/times.pt')\n",
    "    return input_size"
   ]
  },
  {
   "cell_type": "code",
   "execution_count": null,
   "id": "23c32821",
   "metadata": {},
   "outputs": [],
   "source": []
  },
  {
   "cell_type": "code",
   "execution_count": 30,
   "id": "91a7c468",
   "metadata": {},
   "outputs": [],
   "source": [
    "here = os.getcwd()\n",
    "def get_data(look_window,forecast_window,stride_window,missing_rate,learning_method='self-supervised'):\n",
    "    \n",
    "    \n",
    "    base_base_loc = here / 'processed_data'\n",
    "    if learning_method=='unsupervised':\n",
    "        if missing_rate ==0:\n",
    "            loc = base_base_loc / ('look_'+str(look_window)+'_stride_'+str(stride_window)+'_forecast_'+str(forecast_window))\n",
    "        # loc = base_base_loc / ('EXPSMD_121_look_'+str(look_window)+'_stride_'+str(stride_window)+'_Missing_'+str(missing_rate))\n",
    "        else:\n",
    "            loc = base_base_loc / ('look_'+str(look_window)+'_stride_'+str(stride_window)+'_forecast_'+str(forecast_window)+'_Missing_'+str(missing_rate))\n",
    "    \n",
    "    else:\n",
    "        if missing_rate ==0:\n",
    "            loc = base_base_loc / ('look_'+str(look_window)+'_stride_'+str(stride_window)+'_forecast_'+str(forecast_window))\n",
    "        # loc = base_base_loc / ('EXPSMD_121_look_'+str(look_window)+'_stride_'+str(stride_window)+'_Missing_'+str(missing_rate))\n",
    "        else:\n",
    "            loc = base_base_loc / ('look_'+str(look_window)+'_stride_'+str(stride_window)+'_forecast_'+str(forecast_window)+'_Missing_'+str(missing_rate))\n",
    "    if os.path.exists(loc):\n",
    "        PATH = os.path.dirname(os.path.abspath(__file__))\n",
    "        data_path = PATH + '/data'\n",
    "        # import pdb ; pdb.set_trace()\n",
    "        X_times = normalized_train_data\n",
    "        input_size = X_times.shape[1]\n",
    "        # pass\n",
    "    else:\n",
    "        # download()\n",
    "        \n",
    "        if not os.path.exists(base_base_loc):\n",
    "            os.mkdir(base_base_loc)\n",
    "        if not os.path.exists(loc):\n",
    "            os.mkdir(loc)\n",
    "        input_size = _process_data(look_window,forecast_window,stride_window,missing_rate,loc,learning_method)\n",
    "        \n",
    "    return loc,input_size"
   ]
  },
  {
   "cell_type": "code",
   "execution_count": 31,
   "id": "fd77e870",
   "metadata": {},
   "outputs": [],
   "source": [
    "# Load and run parse2.py file\n",
    "%run parse2.py"
   ]
  },
  {
   "cell_type": "code",
   "execution_count": 32,
   "id": "7767e1ba",
   "metadata": {},
   "outputs": [],
   "source": [
    "from sklearn.metrics import precision_recall_fscore_support"
   ]
  },
  {
   "cell_type": "code",
   "execution_count": 33,
   "id": "7845fe1a",
   "metadata": {},
   "outputs": [],
   "source": [
    "CUBICS = ['natural_cubic','cubic']\n",
    "torch.backends.cudnn.benchmark = True"
   ]
  },
  {
   "cell_type": "code",
   "execution_count": 34,
   "id": "81af12b0",
   "metadata": {},
   "outputs": [],
   "source": [
    "%run common.py"
   ]
  },
  {
   "cell_type": "code",
   "execution_count": 35,
   "id": "21540981",
   "metadata": {},
   "outputs": [],
   "source": [
    "%run iotDataset.py"
   ]
  },
  {
   "cell_type": "code",
   "execution_count": 38,
   "id": "2e4fca15",
   "metadata": {},
   "outputs": [
    {
     "name": "stdout",
     "output_type": "stream",
     "text": [
      "Namespace(seed=112, model='ncde', h_channels=64, hh_channels_f=128, hh_channels_g=64, hh_channels_c=64, lr=0.01, weight_decay=0.0001, epoch=5, solver_method='rk4', data_path='dataset/SWAT', dataset='SWAT', batch_size=256, win_size=30, forecast_window=10, step_size=30, interpolation='cubic', missing_rate=0)\n",
      "18\n",
      "======= >>> Model Info <<< =======\n",
      "NeuralDE(\n",
      "  (func_f): CDEFunc_f(\n",
      "    (linear0): Linear(in_features=64, out_features=128, bias=True)\n",
      "    (linear1): Linear(in_features=128, out_features=128, bias=True)\n",
      "    (linear2): Linear(in_features=128, out_features=128, bias=True)\n",
      "    (linear3): Linear(in_features=128, out_features=128, bias=True)\n",
      "    (linear4): Linear(in_features=128, out_features=1152, bias=True)\n",
      "  )\n",
      "  (func_g): CDEFunc_g(\n",
      "    (linear0): Linear(in_features=64, out_features=64, bias=True)\n",
      "    (linear1): Linear(in_features=64, out_features=64, bias=True)\n",
      "    (linear2): Linear(in_features=64, out_features=64, bias=True)\n",
      "    (linear3): Linear(in_features=64, out_features=64, bias=True)\n",
      "    (linear4): Linear(in_features=64, out_features=1152, bias=True)\n",
      "  )\n",
      "  (func_c): CDEFunc_c(\n",
      "    (linear1): Linear(in_features=64, out_features=64, bias=True)\n",
      "    (linear2): Linear(in_features=64, out_features=1152, bias=True)\n",
      "  )\n",
      "  (readout): Linear(in_features=64, out_features=1, bias=True)\n",
      "  (readout2): Linear(in_features=64, out_features=1, bias=True)\n",
      "  (forecast): Linear(in_features=64, out_features=18, bias=True)\n",
      "  (reconstruct): Linear(in_features=64, out_features=18, bias=True)\n",
      "  (initial): Linear(in_features=18, out_features=64, bias=True)\n",
      ")\n",
      "==================================\n",
      "Epoch: 0   Train loss:      0.0060  Train Pr :      0.7562       Train Re :      0.7599   Train F1:       0.7579  Train AUROC :       0.7052      Time :1403.9957\n",
      "[Precursor]                          Train Next Pr : 0.5653       Train Next Re : 0.2802   Train Next F1:  0.1963  Train Next AUROC :  0.3821\n",
      "[Forecasting]                        Train MSE :     24.3233 \n",
      "\n",
      "Epoch: 0   Validation loss: 1.2323 , Validation Pr :      0.8419       Validation Re :      0.7999  Validation F1: 0.7501  Validation AUROC :  0.9082      Time :7.6073\n",
      "[Precursor]                           Validation Next Pr : 0.0986       Validation Next Re : 0.2582  Val Next F1:   0.1079  Val Next AUROC :    0.1418\n",
      "[Forecasting]                         Validation MSE :     19.7032 \n",
      "\n",
      "Epoch: 0   Test loss:       1.2001 , Test Pr :      0.8493       Test Re :      0.8240    Test F1:       0.7766  Test AUROC :        0.7944      Time :6.4293\n",
      "[Precursor]                           Test Next Pr : 0.0489       Test Next Re : 0.2202    Test Next F1:  0.0800  Test Next AUROC :   0.2857\n",
      "[Forecasting]                         Test MSE :     19.0869 \n",
      "\n",
      "---------------------------------------------------------------------------------\n",
      "Epoch: 1   Train loss:      0.0132  Train Pr :      0.7811       Train Re :      0.7856   Train F1:       0.7831  Train AUROC :       0.7876      Time :1734.2225\n",
      "[Precursor]                          Train Next Pr : 0.6631       Train Next Re : 0.2899   Train Next F1:  0.1948  Train Next AUROC :  0.4687\n",
      "[Forecasting]                        Train MSE :     19.4522 \n",
      "\n",
      "Epoch: 1   Validation loss: 1.2418 , Validation Pr :      0.8299       Validation Re :      0.7807  Validation F1: 0.7160  Validation AUROC :  0.9016      Time :6.5702\n",
      "[Precursor]                           Validation Next Pr : 0.0687       Validation Next Re : 0.2621  Val Next F1:   0.1088  Val Next AUROC :    0.2932\n",
      "[Forecasting]                         Validation MSE :     17.5798 \n",
      "\n",
      "Epoch: 1   Test loss:       1.2080 , Test Pr :      0.8430       Test Re :      0.8103    Test F1:       0.7502  Test AUROC :        0.8117      Time :6.8236\n",
      "[Precursor]                           Test Next Pr : 0.0491       Test Next Re : 0.2216    Test Next F1:  0.0804  Test Next AUROC :   0.3822\n",
      "[Forecasting]                         Test MSE :     17.2110 \n",
      "\n",
      "---------------------------------------------------------------------------------\n",
      "DEBUGGING!\n",
      "[4.504341  3.5177557 4.8988066 ...       nan       nan       nan]\n",
      "Epoch: 2   Train loss:      nan  Train Pr :      0.7148       Train Re :      0.3435   Train F1:       0.2913  Train AUROC :       0.0000      Time :1714.1651\n",
      "[Precursor]                          Train Next Pr : 0.8116       Train Next Re : 0.2519   Train Next F1:  0.1014  Train Next AUROC :  0.0000\n",
      "[Forecasting]                        Train MSE :     nan \n",
      "\n",
      "DEBUGGING!\n",
      "[nan nan nan ... nan nan nan]\n",
      "Epoch: 2   Validation loss: 1.3863 , Validation Pr :      0.0685       Validation Re :      0.2617  Validation F1: 0.1086  Validation AUROC :  0.0000      Time :6.7291\n",
      "[Precursor]                           Validation Next Pr : 0.0687       Validation Next Re : 0.2621  Val Next F1:   0.1088  Val Next AUROC :    0.0000\n",
      "[Forecasting]                         Validation MSE :     nan \n",
      "\n",
      "DEBUGGING!\n",
      "[nan nan nan ... nan nan nan]\n",
      "Epoch: 2   Test loss:       1.3863 , Test Pr :      0.0490       Test Re :      0.2213    Test F1:       0.0802  Test AUROC :        0.0000      Time :6.4428\n",
      "[Precursor]                           Test Next Pr : 0.0491       Test Next Re : 0.2216    Test Next F1:  0.0804  Test Next AUROC :   0.0000\n",
      "[Forecasting]                         Test MSE :     nan \n",
      "\n",
      "---------------------------------------------------------------------------------\n",
      "DEBUGGING!\n",
      "[nan nan nan ... nan nan nan]\n",
      "Epoch: 3   Train loss:      nan  Train Pr :      0.0633       Train Re :      0.2516   Train F1:       0.1011  Train AUROC :       0.0000      Time :1836.9246\n",
      "[Precursor]                          Train Next Pr : 0.0634       Train Next Re : 0.2519   Train Next F1:  0.1014  Train Next AUROC :  0.0000\n",
      "[Forecasting]                        Train MSE :     nan \n",
      "\n",
      "DEBUGGING!\n",
      "[nan nan nan ... nan nan nan]\n",
      "Epoch: 3   Validation loss: 1.3863 , Validation Pr :      0.0685       Validation Re :      0.2617  Validation F1: 0.1086  Validation AUROC :  0.0000      Time :6.7786\n",
      "[Precursor]                           Validation Next Pr : 0.0687       Validation Next Re : 0.2621  Val Next F1:   0.1088  Val Next AUROC :    0.0000\n",
      "[Forecasting]                         Validation MSE :     nan \n",
      "\n",
      "DEBUGGING!\n",
      "[nan nan nan ... nan nan nan]\n",
      "Epoch: 3   Test loss:       1.3863 , Test Pr :      0.0490       Test Re :      0.2213    Test F1:       0.0802  Test AUROC :        0.0000      Time :6.6575\n",
      "[Precursor]                           Test Next Pr : 0.0491       Test Next Re : 0.2216    Test Next F1:  0.0804  Test Next AUROC :   0.0000\n",
      "[Forecasting]                         Test MSE :     nan \n",
      "\n",
      "---------------------------------------------------------------------------------\n",
      "DEBUGGING!\n",
      "[nan nan nan ... nan nan nan]\n",
      "Epoch: 4   Train loss:      nan  Train Pr :      0.0633       Train Re :      0.2516   Train F1:       0.1011  Train AUROC :       0.0000      Time :2152.8165\n",
      "[Precursor]                          Train Next Pr : 0.0634       Train Next Re : 0.2519   Train Next F1:  0.1014  Train Next AUROC :  0.0000\n",
      "[Forecasting]                        Train MSE :     nan \n",
      "\n",
      "DEBUGGING!\n",
      "[nan nan nan ... nan nan nan]\n",
      "Epoch: 4   Validation loss: 1.3863 , Validation Pr :      0.0685       Validation Re :      0.2617  Validation F1: 0.1086  Validation AUROC :  0.0000      Time :6.7839\n",
      "[Precursor]                           Validation Next Pr : 0.0687       Validation Next Re : 0.2621  Val Next F1:   0.1088  Val Next AUROC :    0.0000\n",
      "[Forecasting]                         Validation MSE :     nan \n",
      "\n",
      "DEBUGGING!\n",
      "[nan nan nan ... nan nan nan]\n",
      "Epoch: 4   Test loss:       1.3863 , Test Pr :      0.0490       Test Re :      0.2213    Test F1:       0.0802  Test AUROC :        0.0000      Time :6.7774\n",
      "[Precursor]                           Test Next Pr : 0.0491       Test Next Re : 0.2216    Test Next F1:  0.0804  Test Next AUROC :   0.0000\n",
      "[Forecasting]                         Test MSE :     nan \n",
      "\n",
      "---------------------------------------------------------------------------------\n"
     ]
    }
   ],
   "source": [
    "%run pad.py"
   ]
  },
  {
   "cell_type": "code",
   "execution_count": null,
   "id": "7593e324",
   "metadata": {},
   "outputs": [],
   "source": []
  }
 ],
 "metadata": {
  "kernelspec": {
   "display_name": "Python 3 (ipykernel)",
   "language": "python",
   "name": "python3"
  },
  "language_info": {
   "codemirror_mode": {
    "name": "ipython",
    "version": 3
   },
   "file_extension": ".py",
   "mimetype": "text/x-python",
   "name": "python",
   "nbconvert_exporter": "python",
   "pygments_lexer": "ipython3",
   "version": "3.10.5"
  }
 },
 "nbformat": 4,
 "nbformat_minor": 5
}
