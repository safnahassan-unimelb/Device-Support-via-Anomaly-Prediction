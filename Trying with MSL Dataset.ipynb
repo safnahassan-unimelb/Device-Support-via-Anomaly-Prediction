{
 "cells": [
  {
   "cell_type": "code",
   "execution_count": 2,
   "id": "b9e31c0a",
   "metadata": {},
   "outputs": [
    {
     "name": "stdout",
     "output_type": "stream",
     "text": [
      "Requirement already satisfied: pyod in c:\\python310\\lib\\site-packages (1.1.3)\n",
      "Requirement already satisfied: six in c:\\python310\\lib\\site-packages (from pyod) (1.16.0)\n",
      "Requirement already satisfied: numba>=0.51 in c:\\python310\\lib\\site-packages (from pyod) (0.58.1)\n",
      "Requirement already satisfied: scikit-learn>=0.22.0 in c:\\python310\\lib\\site-packages (from pyod) (1.1.1)\n",
      "Requirement already satisfied: joblib in c:\\python310\\lib\\site-packages (from pyod) (1.1.0)\n",
      "Requirement already satisfied: numpy>=1.19 in c:\\python310\\lib\\site-packages (from pyod) (1.23.1)\n",
      "Requirement already satisfied: matplotlib in c:\\python310\\lib\\site-packages (from pyod) (3.5.2)\n",
      "Requirement already satisfied: scipy>=1.5.1 in c:\\python310\\lib\\site-packages (from pyod) (1.9.0)\n",
      "Requirement already satisfied: llvmlite<0.42,>=0.41.0dev0 in c:\\python310\\lib\\site-packages (from numba>=0.51->pyod) (0.41.1)\n",
      "Requirement already satisfied: threadpoolctl>=2.0.0 in c:\\python310\\lib\\site-packages (from scikit-learn>=0.22.0->pyod) (3.1.0)\n",
      "Requirement already satisfied: cycler>=0.10 in c:\\python310\\lib\\site-packages (from matplotlib->pyod) (0.11.0)\n",
      "Requirement already satisfied: pillow>=6.2.0 in c:\\python310\\lib\\site-packages (from matplotlib->pyod) (9.2.0)\n",
      "Requirement already satisfied: python-dateutil>=2.7 in c:\\python310\\lib\\site-packages (from matplotlib->pyod) (2.8.2)\n",
      "Requirement already satisfied: kiwisolver>=1.0.1 in c:\\python310\\lib\\site-packages (from matplotlib->pyod) (1.4.4)\n",
      "Requirement already satisfied: pyparsing>=2.2.1 in c:\\python310\\lib\\site-packages (from matplotlib->pyod) (3.0.9)\n",
      "Requirement already satisfied: fonttools>=4.22.0 in c:\\python310\\lib\\site-packages (from matplotlib->pyod) (4.34.4)\n",
      "Requirement already satisfied: packaging>=20.0 in c:\\python310\\lib\\site-packages (from matplotlib->pyod) (21.3)\n",
      "\n",
      "[notice] A new release of pip available: 22.2 -> 24.0\n",
      "[notice] To update, run: python.exe -m pip install --upgrade pip\n",
      "Note: you may need to restart the kernel to use updated packages.\n"
     ]
    }
   ],
   "source": [
    "pip install --upgrade pyod"
   ]
  },
  {
   "cell_type": "code",
   "execution_count": 3,
   "id": "a5322fe1",
   "metadata": {},
   "outputs": [
    {
     "name": "stdout",
     "output_type": "stream",
     "text": [
      "Requirement already satisfied: combo in c:\\python310\\lib\\site-packages (0.1.3)\n",
      "Requirement already satisfied: matplotlib in c:\\python310\\lib\\site-packages (from combo) (3.5.2)\n",
      "Requirement already satisfied: joblib in c:\\python310\\lib\\site-packages (from combo) (1.1.0)\n",
      "Requirement already satisfied: scipy in c:\\python310\\lib\\site-packages (from combo) (1.9.0)\n",
      "Requirement already satisfied: numba>=0.35 in c:\\python310\\lib\\site-packages (from combo) (0.58.1)\n",
      "Requirement already satisfied: scikit-learn>=0.20 in c:\\python310\\lib\\site-packages (from combo) (1.1.1)\n",
      "Requirement already satisfied: numpy>=1.13 in c:\\python310\\lib\\site-packages (from combo) (1.23.1)\n",
      "Requirement already satisfied: pyod in c:\\python310\\lib\\site-packages (from combo) (1.1.3)\n",
      "Requirement already satisfied: llvmlite<0.42,>=0.41.0dev0 in c:\\python310\\lib\\site-packages (from numba>=0.35->combo) (0.41.1)\n",
      "Requirement already satisfied: threadpoolctl>=2.0.0 in c:\\python310\\lib\\site-packages (from scikit-learn>=0.20->combo) (3.1.0)\n",
      "Requirement already satisfied: pillow>=6.2.0 in c:\\python310\\lib\\site-packages (from matplotlib->combo) (9.2.0)\n",
      "Requirement already satisfied: python-dateutil>=2.7 in c:\\python310\\lib\\site-packages (from matplotlib->combo) (2.8.2)\n",
      "Requirement already satisfied: pyparsing>=2.2.1 in c:\\python310\\lib\\site-packages (from matplotlib->combo) (3.0.9)\n",
      "Requirement already satisfied: packaging>=20.0 in c:\\python310\\lib\\site-packages (from matplotlib->combo) (21.3)\n",
      "Requirement already satisfied: kiwisolver>=1.0.1 in c:\\python310\\lib\\site-packages (from matplotlib->combo) (1.4.4)\n",
      "Requirement already satisfied: cycler>=0.10 in c:\\python310\\lib\\site-packages (from matplotlib->combo) (0.11.0)\n",
      "Requirement already satisfied: fonttools>=4.22.0 in c:\\python310\\lib\\site-packages (from matplotlib->combo) (4.34.4)\n",
      "Requirement already satisfied: six in c:\\python310\\lib\\site-packages (from pyod->combo) (1.16.0)\n",
      "\n",
      "[notice] A new release of pip available: 22.2 -> 24.0\n",
      "[notice] To update, run: python.exe -m pip install --upgrade pip\n",
      "Note: you may need to restart the kernel to use updated packages.\n"
     ]
    }
   ],
   "source": [
    "pip install combo"
   ]
  },
  {
   "cell_type": "code",
   "execution_count": 4,
   "id": "09f6a657",
   "metadata": {},
   "outputs": [],
   "source": [
    "import pandas as pd\n",
    "import numpy as np\n",
    "from pandas import json_normalize\n",
    "import json\n",
    "from datetime import datetime\n",
    "import pytz\n",
    "import matplotlib.pyplot as plt\n",
    "import ruptures as rpt\n",
    "from collections import Counter"
   ]
  },
  {
   "cell_type": "code",
   "execution_count": 5,
   "id": "51dd3c79",
   "metadata": {},
   "outputs": [],
   "source": [
    "data_path = \"MSL\""
   ]
  },
  {
   "cell_type": "code",
   "execution_count": 6,
   "id": "b979f309",
   "metadata": {},
   "outputs": [],
   "source": [
    "# No requirement to create multi index for datasets like SWAT"
   ]
  },
  {
   "cell_type": "code",
   "execution_count": 7,
   "id": "5bca549a",
   "metadata": {},
   "outputs": [],
   "source": [
    "train_data = np.load(data_path + \"/MSL_train.npy\")\n",
    "# train_data_label = np.load(data_path + \"/SWAT_train_label_mix.npy\")\n",
    "test_data = np.load(data_path+\"/MSL_test.npy\")\n",
    "test_data_label = np.load(data_path + '/MSL_test_label.npy').astype(int)"
   ]
  },
  {
   "cell_type": "code",
   "execution_count": 8,
   "id": "1225bc1a",
   "metadata": {},
   "outputs": [],
   "source": [
    "train_data_label = test_data_label[0:len(train_data)]"
   ]
  },
  {
   "cell_type": "code",
   "execution_count": 9,
   "id": "57c5875f",
   "metadata": {},
   "outputs": [
    {
     "data": {
      "text/plain": [
       "array([0, 0, 0, ..., 0, 0, 0])"
      ]
     },
     "execution_count": 9,
     "metadata": {},
     "output_type": "execute_result"
    }
   ],
   "source": [
    "train_data_label"
   ]
  },
  {
   "cell_type": "code",
   "execution_count": 10,
   "id": "726640ee",
   "metadata": {},
   "outputs": [
    {
     "data": {
      "text/plain": [
       "58317"
      ]
     },
     "execution_count": 10,
     "metadata": {},
     "output_type": "execute_result"
    }
   ],
   "source": [
    "# train_data_label = pd.DataFrame(labelled_data.iloc[0:train_size,29].values.astype(int), columns=['isDeviceWorking'])\n",
    "# test_data_label = pd.DataFrame(labelled_data.iloc[train_size:len(labelled_data),29].values.astype(int), columns=['isDeviceWorking'])\n",
    "len(train_data)"
   ]
  },
  {
   "cell_type": "code",
   "execution_count": 11,
   "id": "b583e9ea",
   "metadata": {},
   "outputs": [
    {
     "data": {
      "text/plain": [
       "73729"
      ]
     },
     "execution_count": 11,
     "metadata": {},
     "output_type": "execute_result"
    }
   ],
   "source": [
    "len(test_data)"
   ]
  },
  {
   "cell_type": "code",
   "execution_count": 12,
   "id": "e9dd531b",
   "metadata": {},
   "outputs": [
    {
     "data": {
      "text/plain": [
       "73729"
      ]
     },
     "execution_count": 12,
     "metadata": {},
     "output_type": "execute_result"
    }
   ],
   "source": [
    "len(test_data_label)"
   ]
  },
  {
   "cell_type": "code",
   "execution_count": 13,
   "id": "33923e9a",
   "metadata": {},
   "outputs": [],
   "source": [
    "# LSTM is a type of RNN - we need sequences that act as an input to the LSTM. Chunks of timestamps are used as sequences\n",
    "\n",
    "# Create sequences for each device. Take timestamps for each deviceId and form sequences taking 10 time steps at a time.\n",
    "def create_dataset(X, y, time_steps = 1):\n",
    "    Xs, ys = [],[]\n",
    "    for i in range(len(X) - time_steps):\n",
    "#         Take the value of current time step (x) and do a bit of indexing. \n",
    "        v = X[i:(i + time_steps)]\n",
    "        Xs.append(v)\n",
    "        ys.append(y[i + time_steps])\n",
    "\n",
    "    return np.array(Xs), np.array(ys)\n"
   ]
  },
  {
   "cell_type": "code",
   "execution_count": 14,
   "id": "095116e6",
   "metadata": {},
   "outputs": [],
   "source": [
    "TIME_STEPS = 100"
   ]
  },
  {
   "cell_type": "code",
   "execution_count": 15,
   "id": "7d45845f",
   "metadata": {},
   "outputs": [],
   "source": [
    "# Convert train dataset into sequences\n",
    "# Start with 5 time steps as history.\n",
    "\n",
    "# TIME_STEPS = 5\n",
    "\n",
    "X_train, y_train = create_dataset(train_data, train_data_label, TIME_STEPS)\n",
    "X_test, y_test = create_dataset(test_data,test_data_label,TIME_STEPS)"
   ]
  },
  {
   "cell_type": "code",
   "execution_count": 16,
   "id": "b5ebd2b7",
   "metadata": {},
   "outputs": [
    {
     "data": {
      "text/plain": [
       "73629"
      ]
     },
     "execution_count": 16,
     "metadata": {},
     "output_type": "execute_result"
    }
   ],
   "source": [
    "len(y_test)"
   ]
  },
  {
   "cell_type": "code",
   "execution_count": 17,
   "id": "4f067850",
   "metadata": {},
   "outputs": [
    {
     "data": {
      "text/plain": [
       "(58217, 100, 55)"
      ]
     },
     "execution_count": 17,
     "metadata": {},
     "output_type": "execute_result"
    }
   ],
   "source": [
    "# The shape of the created sequence dataset: \n",
    "# it's a 3-D tensor which contains the timeseries, time step (history), and number of features\n",
    "X_train.shape"
   ]
  },
  {
   "cell_type": "code",
   "execution_count": 18,
   "id": "eb9ba91e",
   "metadata": {},
   "outputs": [
    {
     "data": {
      "text/plain": [
       "(58217,)"
      ]
     },
     "execution_count": 18,
     "metadata": {},
     "output_type": "execute_result"
    }
   ],
   "source": [
    "y_train.shape"
   ]
  },
  {
   "cell_type": "code",
   "execution_count": 19,
   "id": "bbcebadb",
   "metadata": {},
   "outputs": [],
   "source": [
    "# The sequences form the input to LSTM Autoencoder\n",
    "# Idea behind this is to train a model based on our data, measure the error post training. \n",
    "# If the error is above a threshold, the model cannot reconstruct the data, indicative of an anomaly (predictive)"
   ]
  },
  {
   "cell_type": "code",
   "execution_count": 20,
   "id": "34fb664c",
   "metadata": {},
   "outputs": [],
   "source": [
    "import numpy as np\n",
    "from tensorflow.keras.utils import to_categorical\n",
    "from keras import models\n",
    "from keras import layers\n",
    "from keras.datasets import imdb\n",
    "from time import time\n",
    "from tensorflow.keras.models import Sequential\n",
    "from tensorflow.keras.layers import LSTM, Dense, Dropout, RepeatVector, TimeDistributed"
   ]
  },
  {
   "cell_type": "code",
   "execution_count": 21,
   "id": "096d0336",
   "metadata": {},
   "outputs": [
    {
     "name": "stdout",
     "output_type": "stream",
     "text": [
      "Model: \"sequential\"\n",
      "_________________________________________________________________\n",
      " Layer (type)                Output Shape              Param #   \n",
      "=================================================================\n",
      " lstm (LSTM)                 (None, 64)                30720     \n",
      "                                                                 \n",
      " dropout (Dropout)           (None, 64)                0         \n",
      "                                                                 \n",
      " repeat_vector (RepeatVector  (None, 100, 64)          0         \n",
      " )                                                               \n",
      "                                                                 \n",
      " lstm_1 (LSTM)               (None, 100, 64)           33024     \n",
      "                                                                 \n",
      " dropout_1 (Dropout)         (None, 100, 64)           0         \n",
      "                                                                 \n",
      " time_distributed (TimeDistr  (None, 100, 1)           65        \n",
      " ibuted)                                                         \n",
      "                                                                 \n",
      "=================================================================\n",
      "Total params: 63,809\n",
      "Trainable params: 63,809\n",
      "Non-trainable params: 0\n",
      "_________________________________________________________________\n"
     ]
    }
   ],
   "source": [
    "model = Sequential()\n",
    "# Add an LSTM Layer with 64 units\n",
    "model.add(LSTM(\n",
    "    units=64, \n",
    "    input_shape=(X_train.shape[1], X_train.shape[2])\n",
    "))\n",
    "\n",
    "# Add a dropout layer for regularization\n",
    "model.add(Dropout(rate = 0.2))\n",
    "\n",
    "# add a repeat layer\n",
    "# This is important because we need to return the sequence for the next LSTM layer to work with.\n",
    "model.add(RepeatVector(n=X_train.shape[1]))\n",
    "\n",
    "# Add another LSTM Layer\n",
    "model.add(LSTM(\n",
    "    units=64, \n",
    "    return_sequences=True\n",
    "))\n",
    "model.add(Dropout(rate = 0.2))\n",
    "\n",
    "# Output time distributed, fully connected layer \n",
    "# return same amount of data that was given as input, \n",
    "# that is reconstructed after learning the most important features of our data\n",
    "\n",
    "model.add(TimeDistributed(Dense(\n",
    "#     Number of features that we have is the number of dimensions of our predictions column, which is y_train.shape[1]\n",
    "#     units = X_train.shape[2]   \n",
    "    units = 1\n",
    ")))\n",
    "\n",
    "model.compile(loss='mae', optimizer = 'adam')\n",
    "model.summary()"
   ]
  },
  {
   "cell_type": "code",
   "execution_count": 22,
   "id": "b6ce6a09",
   "metadata": {},
   "outputs": [
    {
     "name": "stdout",
     "output_type": "stream",
     "text": [
      "Epoch 1/10\n",
      "1638/1638 [==============================] - 121s 71ms/step - loss: 0.1393 - val_loss: 0.0407\n",
      "Epoch 2/10\n",
      "1638/1638 [==============================] - 117s 72ms/step - loss: 0.1353 - val_loss: 0.0315\n",
      "Epoch 3/10\n",
      "1638/1638 [==============================] - 122s 75ms/step - loss: 0.1336 - val_loss: 0.0311\n",
      "Epoch 4/10\n",
      "1638/1638 [==============================] - 112s 69ms/step - loss: 0.1329 - val_loss: 0.0311\n",
      "Epoch 5/10\n",
      "1638/1638 [==============================] - 132s 81ms/step - loss: 0.1325 - val_loss: 0.0311\n",
      "Epoch 6/10\n",
      "1638/1638 [==============================] - 129s 79ms/step - loss: 0.1323 - val_loss: 0.0311\n",
      "Epoch 7/10\n",
      "1638/1638 [==============================] - 129s 79ms/step - loss: 0.1322 - val_loss: 0.0311\n",
      "Epoch 8/10\n",
      "1638/1638 [==============================] - 131s 80ms/step - loss: 0.1322 - val_loss: 0.0312\n",
      "Epoch 9/10\n",
      "1638/1638 [==============================] - 134s 82ms/step - loss: 0.1322 - val_loss: 0.0312\n",
      "Epoch 10/10\n",
      "1638/1638 [==============================] - 132s 81ms/step - loss: 0.1322 - val_loss: 0.0314\n"
     ]
    }
   ],
   "source": [
    "# Train the model\n",
    "# Important: In time series data, do not shuffle the data because data is history dependent\n",
    "history = model.fit(\n",
    "    X_train, y_train,\n",
    "    epochs=10,\n",
    "    batch_size=32,\n",
    "    validation_split=0.1,\n",
    "    shuffle = False\n",
    ")"
   ]
  },
  {
   "cell_type": "code",
   "execution_count": 23,
   "id": "4f43ea5b",
   "metadata": {},
   "outputs": [
    {
     "data": {
      "image/png": "[encoded data removed]",
      "text/plain": [
       "<Figure size 432x288 with 1 Axes>"
      ]
     },
     "metadata": {
      "needs_background": "light"
     },
     "output_type": "display_data"
    }
   ],
   "source": [
    "# As you can see, validation loss decreases steadily in above output (indicates some hints of possible learning)\n",
    "\n",
    "plt.plot(history.history['loss'], label = 'train')\n",
    "plt.plot(history.history['val_loss'], label = 'test')\n",
    "plt.legend();"
   ]
  },
  {
   "cell_type": "code",
   "execution_count": 24,
   "id": "fe4b8986",
   "metadata": {},
   "outputs": [
    {
     "name": "stdout",
     "output_type": "stream",
     "text": [
      "1820/1820 [==============================] - 50s 27ms/step\n"
     ]
    }
   ],
   "source": [
    "# Take the predictions for the training data that we have\n",
    "X_train_pred = model.predict(X_train)"
   ]
  },
  {
   "cell_type": "code",
   "execution_count": 25,
   "id": "829968c1",
   "metadata": {},
   "outputs": [
    {
     "data": {
      "text/plain": [
       "(58217, 100, 1)"
      ]
     },
     "execution_count": 25,
     "metadata": {},
     "output_type": "execute_result"
    }
   ],
   "source": [
    "X_train_pred.shape"
   ]
  },
  {
   "cell_type": "code",
   "execution_count": 26,
   "id": "711df9ae",
   "metadata": {},
   "outputs": [],
   "source": [
    "X_train_pred_reshaped = X_train_pred[:,0,:]"
   ]
  },
  {
   "cell_type": "code",
   "execution_count": 27,
   "id": "38318260",
   "metadata": {},
   "outputs": [
    {
     "data": {
      "text/plain": [
       "(58217, 1)"
      ]
     },
     "execution_count": 27,
     "metadata": {},
     "output_type": "execute_result"
    }
   ],
   "source": [
    "X_train_pred_reshaped.shape"
   ]
  },
  {
   "cell_type": "code",
   "execution_count": 28,
   "id": "aebc77a1",
   "metadata": {},
   "outputs": [
    {
     "data": {
      "text/plain": [
       "(58217,)"
      ]
     },
     "execution_count": 28,
     "metadata": {},
     "output_type": "execute_result"
    }
   ],
   "source": [
    "y_train.shape"
   ]
  },
  {
   "cell_type": "code",
   "execution_count": 29,
   "id": "6736d0a4",
   "metadata": {},
   "outputs": [],
   "source": [
    "y_train_reshape = y_train.reshape((58217, 1))"
   ]
  },
  {
   "cell_type": "code",
   "execution_count": 30,
   "id": "97ddb2f5",
   "metadata": {},
   "outputs": [
    {
     "data": {
      "text/plain": [
       "(58217, 1)"
      ]
     },
     "execution_count": 30,
     "metadata": {},
     "output_type": "execute_result"
    }
   ],
   "source": [
    "y_train_reshape.shape"
   ]
  },
  {
   "cell_type": "code",
   "execution_count": 31,
   "id": "41d7d380",
   "metadata": {},
   "outputs": [
    {
     "name": "stderr",
     "output_type": "stream",
     "text": [
      "C:\\Python310\\lib\\site-packages\\seaborn\\distributions.py:2619: FutureWarning: `distplot` is a deprecated function and will be removed in a future version. Please adapt your code to use either `displot` (a figure-level function with similar flexibility) or `histplot` (an axes-level function for histograms).\n",
      "  warnings.warn(msg, FutureWarning)\n"
     ]
    },
    {
     "data": {
      "text/plain": [
       "<AxesSubplot:ylabel='Density'>"
      ]
     },
     "execution_count": 31,
     "metadata": {},
     "output_type": "execute_result"
    },
    {
     "data": {
      "image/png": "[encoded data removed]",
      "text/plain": [
       "<Figure size 432x288 with 1 Axes>"
      ]
     },
     "metadata": {
      "needs_background": "light"
     },
     "output_type": "display_data"
    }
   ],
   "source": [
    "# take mae on training set and calculate error\n",
    "\n",
    "import seaborn as sns\n",
    "train_mae_loss = np.mean(np.abs(X_train_pred_reshaped - y_train_reshape), axis =1)\n",
    "sns.distplot(train_mae_loss, bins=50,kde=True)\n",
    "# This gives us an idea of what to set as a threshold (which is a hyperparameter)"
   ]
  },
  {
   "cell_type": "code",
   "execution_count": 32,
   "id": "f2e40800",
   "metadata": {},
   "outputs": [
    {
     "data": {
      "text/plain": [
       "(73629,)"
      ]
     },
     "execution_count": 32,
     "metadata": {},
     "output_type": "execute_result"
    }
   ],
   "source": [
    "y_test.shape"
   ]
  },
  {
   "cell_type": "code",
   "execution_count": 33,
   "id": "743e44df",
   "metadata": {},
   "outputs": [
    {
     "name": "stdout",
     "output_type": "stream",
     "text": [
      "2301/2301 [==============================] - 62s 27ms/step\n"
     ]
    }
   ],
   "source": [
    "# Do the same for test set\n",
    "X_test_pred = model.predict(X_test)\n",
    "X_test_pred_reshaped = X_test_pred[:,0,:]\n",
    "y_test_reshape = y_test.reshape((73629, 1))\n",
    "test_mae_loss = np.mean(np.abs(X_test_pred_reshaped - y_test_reshape), axis =1)"
   ]
  },
  {
   "cell_type": "code",
   "execution_count": 34,
   "id": "35e2d948",
   "metadata": {},
   "outputs": [
    {
     "data": {
      "text/plain": [
       "73629"
      ]
     },
     "execution_count": 34,
     "metadata": {},
     "output_type": "execute_result"
    }
   ],
   "source": [
    "len(X_test_pred)"
   ]
  },
  {
   "cell_type": "code",
   "execution_count": 35,
   "id": "1c2b34cc",
   "metadata": {},
   "outputs": [
    {
     "data": {
      "text/plain": [
       "(73629, 1)"
      ]
     },
     "execution_count": 35,
     "metadata": {},
     "output_type": "execute_result"
    }
   ],
   "source": [
    "X_test_pred_reshaped.shape"
   ]
  },
  {
   "cell_type": "code",
   "execution_count": 36,
   "id": "7fc2250a",
   "metadata": {},
   "outputs": [
    {
     "name": "stderr",
     "output_type": "stream",
     "text": [
      "C:\\Python310\\lib\\site-packages\\seaborn\\distributions.py:2619: FutureWarning: `distplot` is a deprecated function and will be removed in a future version. Please adapt your code to use either `displot` (a figure-level function with similar flexibility) or `histplot` (an axes-level function for histograms).\n",
      "  warnings.warn(msg, FutureWarning)\n"
     ]
    },
    {
     "data": {
      "text/plain": [
       "<AxesSubplot:ylabel='Density'>"
      ]
     },
     "execution_count": 36,
     "metadata": {},
     "output_type": "execute_result"
    },
    {
     "data": {
      "image/png": "[encoded data removed]",
      "text/plain": [
       "<Figure size 432x288 with 1 Axes>"
      ]
     },
     "metadata": {
      "needs_background": "light"
     },
     "output_type": "display_data"
    }
   ],
   "source": [
    "sns.distplot(test_mae_loss, bins=50,kde=True)"
   ]
  },
  {
   "cell_type": "code",
   "execution_count": 37,
   "id": "773960eb",
   "metadata": {},
   "outputs": [
    {
     "data": {
      "text/plain": [
       "array([0, 0, 0, ..., 0, 0, 0])"
      ]
     },
     "execution_count": 37,
     "metadata": {},
     "output_type": "execute_result"
    }
   ],
   "source": [
    "test_data_label"
   ]
  },
  {
   "cell_type": "code",
   "execution_count": 38,
   "id": "7698f64a",
   "metadata": {},
   "outputs": [],
   "source": [
    "# Dynamic thresholding: εij = μ(eij ) + zσ(eij )\n",
    "# Find mean and SD of errors\n",
    "# Find suitable z to calculate threshold. \n",
    "\n",
    "# Find mean with no axis, i.e.:  to compute the mean of the flattened array\n",
    "mean = np.mean(np.abs(X_train_pred_reshaped - y_train_reshape.astype('float32')))\n",
    "standard_deviation = np.std(np.abs(X_train_pred_reshaped - y_train_reshape.astype('float32')))\n",
    "\n",
    "# Dynamic Threshold\n",
    "# Here, the z value is dynamic\n",
    "# Values for z depend on context, usually between two and ten to work well based on our experimental results.\n",
    "\n",
    "# Dynamic Threshold with z = 1-.75\n",
    "dynamic_threshold = (mean + (0.75*standard_deviation))\n"
   ]
  },
  {
   "cell_type": "code",
   "execution_count": 39,
   "id": "f822a1a7",
   "metadata": {},
   "outputs": [],
   "source": [
    "dynamic_threshold = 1.00"
   ]
  },
  {
   "cell_type": "code",
   "execution_count": 40,
   "id": "af0655a3",
   "metadata": {},
   "outputs": [],
   "source": [
    "# Perform thresholding\n",
    "THRESHOLD = 0.75\n",
    "\n",
    "test_score_df = pd.DataFrame()\n",
    "# test_score_df = pd.DataFrame(index=test_data_label[TIME_STEPS:].index)\n",
    "test_score_df['loss'] = test_mae_loss\n",
    "test_score_df['threshold'] = dynamic_threshold\n",
    "test_score_df['anomaly'] = test_score_df.loss > test_score_df.threshold\n",
    "# test_score_df['isDeviceWorking'] = test_data_label.isDeviceWorking\n",
    "test_score_df['actual_labels'] = y_test"
   ]
  },
  {
   "cell_type": "code",
   "execution_count": 41,
   "id": "3d887ae8",
   "metadata": {},
   "outputs": [
    {
     "data": {
      "text/html": [
       "<div>\n",
       "<style scoped>\n",
       "    .dataframe tbody tr th:only-of-type {\n",
       "        vertical-align: middle;\n",
       "    }\n",
       "\n",
       "    .dataframe tbody tr th {\n",
       "        vertical-align: top;\n",
       "    }\n",
       "\n",
       "    .dataframe thead th {\n",
       "        text-align: right;\n",
       "    }\n",
       "</style>\n",
       "<table border=\"1\" class=\"dataframe\">\n",
       "  <thead>\n",
       "    <tr style=\"text-align: right;\">\n",
       "      <th></th>\n",
       "      <th>loss</th>\n",
       "      <th>threshold</th>\n",
       "      <th>anomaly</th>\n",
       "      <th>actual_labels</th>\n",
       "    </tr>\n",
       "  </thead>\n",
       "  <tbody>\n",
       "    <tr>\n",
       "      <th>0</th>\n",
       "      <td>0.000304</td>\n",
       "      <td>1.0</td>\n",
       "      <td>False</td>\n",
       "      <td>0</td>\n",
       "    </tr>\n",
       "    <tr>\n",
       "      <th>1</th>\n",
       "      <td>0.000304</td>\n",
       "      <td>1.0</td>\n",
       "      <td>False</td>\n",
       "      <td>0</td>\n",
       "    </tr>\n",
       "    <tr>\n",
       "      <th>2</th>\n",
       "      <td>0.000304</td>\n",
       "      <td>1.0</td>\n",
       "      <td>False</td>\n",
       "      <td>0</td>\n",
       "    </tr>\n",
       "    <tr>\n",
       "      <th>3</th>\n",
       "      <td>0.000304</td>\n",
       "      <td>1.0</td>\n",
       "      <td>False</td>\n",
       "      <td>0</td>\n",
       "    </tr>\n",
       "    <tr>\n",
       "      <th>4</th>\n",
       "      <td>0.000304</td>\n",
       "      <td>1.0</td>\n",
       "      <td>False</td>\n",
       "      <td>0</td>\n",
       "    </tr>\n",
       "    <tr>\n",
       "      <th>...</th>\n",
       "      <td>...</td>\n",
       "      <td>...</td>\n",
       "      <td>...</td>\n",
       "      <td>...</td>\n",
       "    </tr>\n",
       "    <tr>\n",
       "      <th>73624</th>\n",
       "      <td>0.000304</td>\n",
       "      <td>1.0</td>\n",
       "      <td>False</td>\n",
       "      <td>0</td>\n",
       "    </tr>\n",
       "    <tr>\n",
       "      <th>73625</th>\n",
       "      <td>0.000304</td>\n",
       "      <td>1.0</td>\n",
       "      <td>False</td>\n",
       "      <td>0</td>\n",
       "    </tr>\n",
       "    <tr>\n",
       "      <th>73626</th>\n",
       "      <td>0.000304</td>\n",
       "      <td>1.0</td>\n",
       "      <td>False</td>\n",
       "      <td>0</td>\n",
       "    </tr>\n",
       "    <tr>\n",
       "      <th>73627</th>\n",
       "      <td>0.000304</td>\n",
       "      <td>1.0</td>\n",
       "      <td>False</td>\n",
       "      <td>0</td>\n",
       "    </tr>\n",
       "    <tr>\n",
       "      <th>73628</th>\n",
       "      <td>0.000304</td>\n",
       "      <td>1.0</td>\n",
       "      <td>False</td>\n",
       "      <td>0</td>\n",
       "    </tr>\n",
       "  </tbody>\n",
       "</table>\n",
       "<p>73629 rows × 4 columns</p>\n",
       "</div>"
      ],
      "text/plain": [
       "           loss  threshold  anomaly  actual_labels\n",
       "0      0.000304        1.0    False              0\n",
       "1      0.000304        1.0    False              0\n",
       "2      0.000304        1.0    False              0\n",
       "3      0.000304        1.0    False              0\n",
       "4      0.000304        1.0    False              0\n",
       "...         ...        ...      ...            ...\n",
       "73624  0.000304        1.0    False              0\n",
       "73625  0.000304        1.0    False              0\n",
       "73626  0.000304        1.0    False              0\n",
       "73627  0.000304        1.0    False              0\n",
       "73628  0.000304        1.0    False              0\n",
       "\n",
       "[73629 rows x 4 columns]"
      ]
     },
     "execution_count": 41,
     "metadata": {},
     "output_type": "execute_result"
    }
   ],
   "source": [
    "# test_score_df.loc[test_score_df['anomaly'] == False]\n",
    "test_score_df"
   ]
  },
  {
   "cell_type": "code",
   "execution_count": 42,
   "id": "b1d897cc",
   "metadata": {},
   "outputs": [
    {
     "data": {
      "text/plain": [
       "<matplotlib.legend.Legend at 0x28d1843ffa0>"
      ]
     },
     "execution_count": 42,
     "metadata": {},
     "output_type": "execute_result"
    },
    {
     "data": {
      "image/png": "[encoded data removed]",
      "text/plain": [
       "<Figure size 1440x576 with 1 Axes>"
      ]
     },
     "metadata": {
      "needs_background": "light"
     },
     "output_type": "display_data"
    }
   ],
   "source": [
    "f = plt.figure()\n",
    "f.set_figwidth(20)\n",
    "f.set_figheight(8)\n",
    "plt.plot(test_score_df.index, test_score_df.loss, label = 'loss')\n",
    "plt.plot(test_score_df.index,test_score_df.threshold, label = 'threshold')\n",
    "# plt.plot(test_score_df.index,test_score_df.actual_labels, label = 'Actual Value')\n",
    "plt.xticks(rotation=25)\n",
    "plt.legend()"
   ]
  },
  {
   "cell_type": "code",
   "execution_count": 43,
   "id": "6cb60e16",
   "metadata": {
    "scrolled": true
   },
   "outputs": [
    {
     "data": {
      "text/plain": [
       "<matplotlib.legend.Legend at 0x28e8c3fa0e0>"
      ]
     },
     "execution_count": 43,
     "metadata": {},
     "output_type": "execute_result"
    },
    {
     "data": {
      "image/png": "[encoded data removed]",
      "text/plain": [
       "<Figure size 1440x576 with 1 Axes>"
      ]
     },
     "metadata": {
      "needs_background": "light"
     },
     "output_type": "display_data"
    }
   ],
   "source": [
    "f = plt.figure()\n",
    "f.set_figwidth(20)\n",
    "f.set_figheight(8)\n",
    "# plt.plot(test_score_df.index, test_score_df.loss, label = 'loss')\n",
    "plt.plot(test_score_df.index,test_score_df.actual_labels, label = 'Actual Value')\n",
    "plt.plot(test_score_df.index,test_score_df.threshold, label = 'threshold')\n",
    "plt.xticks(rotation=25)\n",
    "plt.legend()"
   ]
  },
  {
   "cell_type": "code",
   "execution_count": 44,
   "id": "96e36782",
   "metadata": {},
   "outputs": [
    {
     "data": {
      "text/html": [
       "<div>\n",
       "<style scoped>\n",
       "    .dataframe tbody tr th:only-of-type {\n",
       "        vertical-align: middle;\n",
       "    }\n",
       "\n",
       "    .dataframe tbody tr th {\n",
       "        vertical-align: top;\n",
       "    }\n",
       "\n",
       "    .dataframe thead th {\n",
       "        text-align: right;\n",
       "    }\n",
       "</style>\n",
       "<table border=\"1\" class=\"dataframe\">\n",
       "  <thead>\n",
       "    <tr style=\"text-align: right;\">\n",
       "      <th></th>\n",
       "      <th>loss</th>\n",
       "      <th>threshold</th>\n",
       "      <th>anomaly</th>\n",
       "      <th>actual_labels</th>\n",
       "    </tr>\n",
       "  </thead>\n",
       "  <tbody>\n",
       "    <tr>\n",
       "      <th>450</th>\n",
       "      <td>1.000304</td>\n",
       "      <td>1.0</td>\n",
       "      <td>True</td>\n",
       "      <td>1</td>\n",
       "    </tr>\n",
       "    <tr>\n",
       "      <th>451</th>\n",
       "      <td>1.000304</td>\n",
       "      <td>1.0</td>\n",
       "      <td>True</td>\n",
       "      <td>1</td>\n",
       "    </tr>\n",
       "    <tr>\n",
       "      <th>452</th>\n",
       "      <td>1.000304</td>\n",
       "      <td>1.0</td>\n",
       "      <td>True</td>\n",
       "      <td>1</td>\n",
       "    </tr>\n",
       "    <tr>\n",
       "      <th>453</th>\n",
       "      <td>1.000304</td>\n",
       "      <td>1.0</td>\n",
       "      <td>True</td>\n",
       "      <td>1</td>\n",
       "    </tr>\n",
       "    <tr>\n",
       "      <th>454</th>\n",
       "      <td>1.000304</td>\n",
       "      <td>1.0</td>\n",
       "      <td>True</td>\n",
       "      <td>1</td>\n",
       "    </tr>\n",
       "    <tr>\n",
       "      <th>...</th>\n",
       "      <td>...</td>\n",
       "      <td>...</td>\n",
       "      <td>...</td>\n",
       "      <td>...</td>\n",
       "    </tr>\n",
       "    <tr>\n",
       "      <th>73499</th>\n",
       "      <td>1.000304</td>\n",
       "      <td>1.0</td>\n",
       "      <td>True</td>\n",
       "      <td>1</td>\n",
       "    </tr>\n",
       "    <tr>\n",
       "      <th>73500</th>\n",
       "      <td>1.000304</td>\n",
       "      <td>1.0</td>\n",
       "      <td>True</td>\n",
       "      <td>1</td>\n",
       "    </tr>\n",
       "    <tr>\n",
       "      <th>73501</th>\n",
       "      <td>1.000304</td>\n",
       "      <td>1.0</td>\n",
       "      <td>True</td>\n",
       "      <td>1</td>\n",
       "    </tr>\n",
       "    <tr>\n",
       "      <th>73502</th>\n",
       "      <td>1.000304</td>\n",
       "      <td>1.0</td>\n",
       "      <td>True</td>\n",
       "      <td>1</td>\n",
       "    </tr>\n",
       "    <tr>\n",
       "      <th>73503</th>\n",
       "      <td>1.000304</td>\n",
       "      <td>1.0</td>\n",
       "      <td>True</td>\n",
       "      <td>1</td>\n",
       "    </tr>\n",
       "  </tbody>\n",
       "</table>\n",
       "<p>7766 rows × 4 columns</p>\n",
       "</div>"
      ],
      "text/plain": [
       "           loss  threshold  anomaly  actual_labels\n",
       "450    1.000304        1.0     True              1\n",
       "451    1.000304        1.0     True              1\n",
       "452    1.000304        1.0     True              1\n",
       "453    1.000304        1.0     True              1\n",
       "454    1.000304        1.0     True              1\n",
       "...         ...        ...      ...            ...\n",
       "73499  1.000304        1.0     True              1\n",
       "73500  1.000304        1.0     True              1\n",
       "73501  1.000304        1.0     True              1\n",
       "73502  1.000304        1.0     True              1\n",
       "73503  1.000304        1.0     True              1\n",
       "\n",
       "[7766 rows x 4 columns]"
      ]
     },
     "execution_count": 44,
     "metadata": {},
     "output_type": "execute_result"
    }
   ],
   "source": [
    "actual_anomalies = test_score_df[test_score_df.actual_labels == 1.0]\n",
    "actual_anomalies"
   ]
  },
  {
   "cell_type": "code",
   "execution_count": 45,
   "id": "1c05a7b7",
   "metadata": {},
   "outputs": [
    {
     "data": {
      "text/html": [
       "<div>\n",
       "<style scoped>\n",
       "    .dataframe tbody tr th:only-of-type {\n",
       "        vertical-align: middle;\n",
       "    }\n",
       "\n",
       "    .dataframe tbody tr th {\n",
       "        vertical-align: top;\n",
       "    }\n",
       "\n",
       "    .dataframe thead th {\n",
       "        text-align: right;\n",
       "    }\n",
       "</style>\n",
       "<table border=\"1\" class=\"dataframe\">\n",
       "  <thead>\n",
       "    <tr style=\"text-align: right;\">\n",
       "      <th></th>\n",
       "      <th>loss</th>\n",
       "      <th>threshold</th>\n",
       "      <th>anomaly</th>\n",
       "      <th>actual_labels</th>\n",
       "    </tr>\n",
       "  </thead>\n",
       "  <tbody>\n",
       "    <tr>\n",
       "      <th>450</th>\n",
       "      <td>1.000304</td>\n",
       "      <td>1.0</td>\n",
       "      <td>True</td>\n",
       "      <td>1</td>\n",
       "    </tr>\n",
       "    <tr>\n",
       "      <th>451</th>\n",
       "      <td>1.000304</td>\n",
       "      <td>1.0</td>\n",
       "      <td>True</td>\n",
       "      <td>1</td>\n",
       "    </tr>\n",
       "    <tr>\n",
       "      <th>452</th>\n",
       "      <td>1.000304</td>\n",
       "      <td>1.0</td>\n",
       "      <td>True</td>\n",
       "      <td>1</td>\n",
       "    </tr>\n",
       "    <tr>\n",
       "      <th>453</th>\n",
       "      <td>1.000304</td>\n",
       "      <td>1.0</td>\n",
       "      <td>True</td>\n",
       "      <td>1</td>\n",
       "    </tr>\n",
       "    <tr>\n",
       "      <th>454</th>\n",
       "      <td>1.000304</td>\n",
       "      <td>1.0</td>\n",
       "      <td>True</td>\n",
       "      <td>1</td>\n",
       "    </tr>\n",
       "    <tr>\n",
       "      <th>...</th>\n",
       "      <td>...</td>\n",
       "      <td>...</td>\n",
       "      <td>...</td>\n",
       "      <td>...</td>\n",
       "    </tr>\n",
       "    <tr>\n",
       "      <th>73499</th>\n",
       "      <td>1.000304</td>\n",
       "      <td>1.0</td>\n",
       "      <td>True</td>\n",
       "      <td>1</td>\n",
       "    </tr>\n",
       "    <tr>\n",
       "      <th>73500</th>\n",
       "      <td>1.000304</td>\n",
       "      <td>1.0</td>\n",
       "      <td>True</td>\n",
       "      <td>1</td>\n",
       "    </tr>\n",
       "    <tr>\n",
       "      <th>73501</th>\n",
       "      <td>1.000304</td>\n",
       "      <td>1.0</td>\n",
       "      <td>True</td>\n",
       "      <td>1</td>\n",
       "    </tr>\n",
       "    <tr>\n",
       "      <th>73502</th>\n",
       "      <td>1.000304</td>\n",
       "      <td>1.0</td>\n",
       "      <td>True</td>\n",
       "      <td>1</td>\n",
       "    </tr>\n",
       "    <tr>\n",
       "      <th>73503</th>\n",
       "      <td>1.000304</td>\n",
       "      <td>1.0</td>\n",
       "      <td>True</td>\n",
       "      <td>1</td>\n",
       "    </tr>\n",
       "  </tbody>\n",
       "</table>\n",
       "<p>7766 rows × 4 columns</p>\n",
       "</div>"
      ],
      "text/plain": [
       "           loss  threshold  anomaly  actual_labels\n",
       "450    1.000304        1.0     True              1\n",
       "451    1.000304        1.0     True              1\n",
       "452    1.000304        1.0     True              1\n",
       "453    1.000304        1.0     True              1\n",
       "454    1.000304        1.0     True              1\n",
       "...         ...        ...      ...            ...\n",
       "73499  1.000304        1.0     True              1\n",
       "73500  1.000304        1.0     True              1\n",
       "73501  1.000304        1.0     True              1\n",
       "73502  1.000304        1.0     True              1\n",
       "73503  1.000304        1.0     True              1\n",
       "\n",
       "[7766 rows x 4 columns]"
      ]
     },
     "execution_count": 45,
     "metadata": {},
     "output_type": "execute_result"
    }
   ],
   "source": [
    "detected_anomalies = test_score_df[test_score_df.anomaly == True]\n",
    "detected_anomalies"
   ]
  },
  {
   "cell_type": "code",
   "execution_count": 46,
   "id": "8cb5ffab",
   "metadata": {},
   "outputs": [],
   "source": [
    " from sklearn.metrics import precision_recall_fscore_support"
   ]
  },
  {
   "cell_type": "code",
   "execution_count": 47,
   "id": "e97d34df",
   "metadata": {},
   "outputs": [
    {
     "data": {
      "text/plain": [
       "73629"
      ]
     },
     "execution_count": 47,
     "metadata": {},
     "output_type": "execute_result"
    }
   ],
   "source": [
    "len(test_score_df)"
   ]
  },
  {
   "cell_type": "code",
   "execution_count": 48,
   "id": "abe2ee51",
   "metadata": {},
   "outputs": [
    {
     "data": {
      "text/plain": [
       "array([[-0.00030439],\n",
       "       [-0.00030439],\n",
       "       [-0.00030439],\n",
       "       ...,\n",
       "       [-0.00030439],\n",
       "       [-0.00030439],\n",
       "       [-0.00030439]], dtype=float32)"
      ]
     },
     "execution_count": 48,
     "metadata": {},
     "output_type": "execute_result"
    }
   ],
   "source": [
    "X_test_pred_reshaped"
   ]
  },
  {
   "cell_type": "code",
   "execution_count": 53,
   "id": "b9536705",
   "metadata": {},
   "outputs": [
    {
     "data": {
      "text/plain": [
       "73579"
      ]
     },
     "execution_count": 53,
     "metadata": {},
     "output_type": "execute_result"
    }
   ],
   "source": [
    "len(y_test[50:73629])"
   ]
  },
  {
   "cell_type": "code",
   "execution_count": 51,
   "id": "d14d79a7",
   "metadata": {},
   "outputs": [
    {
     "data": {
      "text/plain": [
       "73529"
      ]
     },
     "execution_count": 51,
     "metadata": {},
     "output_type": "execute_result"
    }
   ],
   "source": [
    "len(test_score_df.loc[0:73578].anomaly)"
   ]
  },
  {
   "cell_type": "code",
   "execution_count": 56,
   "id": "ea7e5bae",
   "metadata": {},
   "outputs": [
    {
     "data": {
      "text/plain": [
       "(0.8821679344803408, 0.8821679344803408, 0.8821679344803408, None)"
      ]
     },
     "execution_count": 56,
     "metadata": {},
     "output_type": "execute_result"
    }
   ],
   "source": [
    "precision_recall_fscore_support(y_test[50:73629], test_score_df.loc[0:73578].anomaly, average='macro')"
   ]
  },
  {
   "cell_type": "code",
   "execution_count": null,
   "id": "85b1f1dd",
   "metadata": {},
   "outputs": [],
   "source": []
  }
 ],
 "metadata": {
  "kernelspec": {
   "display_name": "Python 3 (ipykernel)",
   "language": "python",
   "name": "python3"
  },
  "language_info": {
   "codemirror_mode": {
    "name": "ipython",
    "version": 3
   },
   "file_extension": ".py",
   "mimetype": "text/x-python",
   "name": "python",
   "nbconvert_exporter": "python",
   "pygments_lexer": "ipython3",
   "version": "3.10.5"
  }
 },
 "nbformat": 4,
 "nbformat_minor": 5
}
